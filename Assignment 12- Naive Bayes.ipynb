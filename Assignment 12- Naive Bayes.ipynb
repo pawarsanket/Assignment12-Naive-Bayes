{
 "cells": [
  {
   "cell_type": "markdown",
   "id": "c576ca4b",
   "metadata": {},
   "source": [
    "# Import Libraries"
   ]
  },
  {
   "cell_type": "code",
   "execution_count": 1,
   "id": "6d2989e3",
   "metadata": {},
   "outputs": [],
   "source": [
    "import pandas as pd\n",
    "import numpy as np\n",
    "from sklearn.naive_bayes import GaussianNB\n",
    "from sklearn.naive_bayes import MultinomialNB\n",
    "from sklearn.model_selection import train_test_split\n",
    "from sklearn.metrics import confusion_matrix\n",
    "from sklearn import preprocessing"
   ]
  },
  {
   "cell_type": "markdown",
   "id": "38b360e3",
   "metadata": {},
   "source": [
    "# Import Dataset"
   ]
  },
  {
   "cell_type": "code",
   "execution_count": 6,
   "id": "79c88a67",
   "metadata": {},
   "outputs": [
    {
     "data": {
      "text/html": [
       "<div>\n",
       "<style scoped>\n",
       "    .dataframe tbody tr th:only-of-type {\n",
       "        vertical-align: middle;\n",
       "    }\n",
       "\n",
       "    .dataframe tbody tr th {\n",
       "        vertical-align: top;\n",
       "    }\n",
       "\n",
       "    .dataframe thead th {\n",
       "        text-align: right;\n",
       "    }\n",
       "</style>\n",
       "<table border=\"1\" class=\"dataframe\">\n",
       "  <thead>\n",
       "    <tr style=\"text-align: right;\">\n",
       "      <th></th>\n",
       "      <th>age</th>\n",
       "      <th>workclass</th>\n",
       "      <th>education</th>\n",
       "      <th>educationno</th>\n",
       "      <th>maritalstatus</th>\n",
       "      <th>occupation</th>\n",
       "      <th>relationship</th>\n",
       "      <th>race</th>\n",
       "      <th>sex</th>\n",
       "      <th>capitalgain</th>\n",
       "      <th>capitalloss</th>\n",
       "      <th>hoursperweek</th>\n",
       "      <th>native</th>\n",
       "      <th>Salary</th>\n",
       "    </tr>\n",
       "  </thead>\n",
       "  <tbody>\n",
       "    <tr>\n",
       "      <th>0</th>\n",
       "      <td>39</td>\n",
       "      <td>State-gov</td>\n",
       "      <td>Bachelors</td>\n",
       "      <td>13</td>\n",
       "      <td>Never-married</td>\n",
       "      <td>Adm-clerical</td>\n",
       "      <td>Not-in-family</td>\n",
       "      <td>White</td>\n",
       "      <td>Male</td>\n",
       "      <td>2174</td>\n",
       "      <td>0</td>\n",
       "      <td>40</td>\n",
       "      <td>United-States</td>\n",
       "      <td>&lt;=50K</td>\n",
       "    </tr>\n",
       "    <tr>\n",
       "      <th>1</th>\n",
       "      <td>50</td>\n",
       "      <td>Self-emp-not-inc</td>\n",
       "      <td>Bachelors</td>\n",
       "      <td>13</td>\n",
       "      <td>Married-civ-spouse</td>\n",
       "      <td>Exec-managerial</td>\n",
       "      <td>Husband</td>\n",
       "      <td>White</td>\n",
       "      <td>Male</td>\n",
       "      <td>0</td>\n",
       "      <td>0</td>\n",
       "      <td>13</td>\n",
       "      <td>United-States</td>\n",
       "      <td>&lt;=50K</td>\n",
       "    </tr>\n",
       "    <tr>\n",
       "      <th>2</th>\n",
       "      <td>38</td>\n",
       "      <td>Private</td>\n",
       "      <td>HS-grad</td>\n",
       "      <td>9</td>\n",
       "      <td>Divorced</td>\n",
       "      <td>Handlers-cleaners</td>\n",
       "      <td>Not-in-family</td>\n",
       "      <td>White</td>\n",
       "      <td>Male</td>\n",
       "      <td>0</td>\n",
       "      <td>0</td>\n",
       "      <td>40</td>\n",
       "      <td>United-States</td>\n",
       "      <td>&lt;=50K</td>\n",
       "    </tr>\n",
       "  </tbody>\n",
       "</table>\n",
       "</div>"
      ],
      "text/plain": [
       "   age          workclass   education  educationno        maritalstatus  \\\n",
       "0   39          State-gov   Bachelors           13        Never-married   \n",
       "1   50   Self-emp-not-inc   Bachelors           13   Married-civ-spouse   \n",
       "2   38            Private     HS-grad            9             Divorced   \n",
       "\n",
       "           occupation    relationship    race    sex  capitalgain  \\\n",
       "0        Adm-clerical   Not-in-family   White   Male         2174   \n",
       "1     Exec-managerial         Husband   White   Male            0   \n",
       "2   Handlers-cleaners   Not-in-family   White   Male            0   \n",
       "\n",
       "   capitalloss  hoursperweek          native  Salary  \n",
       "0            0            40   United-States   <=50K  \n",
       "1            0            13   United-States   <=50K  \n",
       "2            0            40   United-States   <=50K  "
      ]
     },
     "execution_count": 6,
     "metadata": {},
     "output_type": "execute_result"
    }
   ],
   "source": [
    "salary_train = pd.read_csv('SalaryData_Train.csv')\n",
    "salary_train.head(3)"
   ]
  },
  {
   "cell_type": "code",
   "execution_count": 7,
   "id": "557c5b9e",
   "metadata": {},
   "outputs": [
    {
     "data": {
      "text/html": [
       "<div>\n",
       "<style scoped>\n",
       "    .dataframe tbody tr th:only-of-type {\n",
       "        vertical-align: middle;\n",
       "    }\n",
       "\n",
       "    .dataframe tbody tr th {\n",
       "        vertical-align: top;\n",
       "    }\n",
       "\n",
       "    .dataframe thead th {\n",
       "        text-align: right;\n",
       "    }\n",
       "</style>\n",
       "<table border=\"1\" class=\"dataframe\">\n",
       "  <thead>\n",
       "    <tr style=\"text-align: right;\">\n",
       "      <th></th>\n",
       "      <th>age</th>\n",
       "      <th>workclass</th>\n",
       "      <th>education</th>\n",
       "      <th>educationno</th>\n",
       "      <th>maritalstatus</th>\n",
       "      <th>occupation</th>\n",
       "      <th>relationship</th>\n",
       "      <th>race</th>\n",
       "      <th>sex</th>\n",
       "      <th>capitalgain</th>\n",
       "      <th>capitalloss</th>\n",
       "      <th>hoursperweek</th>\n",
       "      <th>native</th>\n",
       "      <th>Salary</th>\n",
       "    </tr>\n",
       "  </thead>\n",
       "  <tbody>\n",
       "    <tr>\n",
       "      <th>0</th>\n",
       "      <td>25</td>\n",
       "      <td>Private</td>\n",
       "      <td>11th</td>\n",
       "      <td>7</td>\n",
       "      <td>Never-married</td>\n",
       "      <td>Machine-op-inspct</td>\n",
       "      <td>Own-child</td>\n",
       "      <td>Black</td>\n",
       "      <td>Male</td>\n",
       "      <td>0</td>\n",
       "      <td>0</td>\n",
       "      <td>40</td>\n",
       "      <td>United-States</td>\n",
       "      <td>&lt;=50K</td>\n",
       "    </tr>\n",
       "    <tr>\n",
       "      <th>1</th>\n",
       "      <td>38</td>\n",
       "      <td>Private</td>\n",
       "      <td>HS-grad</td>\n",
       "      <td>9</td>\n",
       "      <td>Married-civ-spouse</td>\n",
       "      <td>Farming-fishing</td>\n",
       "      <td>Husband</td>\n",
       "      <td>White</td>\n",
       "      <td>Male</td>\n",
       "      <td>0</td>\n",
       "      <td>0</td>\n",
       "      <td>50</td>\n",
       "      <td>United-States</td>\n",
       "      <td>&lt;=50K</td>\n",
       "    </tr>\n",
       "    <tr>\n",
       "      <th>2</th>\n",
       "      <td>28</td>\n",
       "      <td>Local-gov</td>\n",
       "      <td>Assoc-acdm</td>\n",
       "      <td>12</td>\n",
       "      <td>Married-civ-spouse</td>\n",
       "      <td>Protective-serv</td>\n",
       "      <td>Husband</td>\n",
       "      <td>White</td>\n",
       "      <td>Male</td>\n",
       "      <td>0</td>\n",
       "      <td>0</td>\n",
       "      <td>40</td>\n",
       "      <td>United-States</td>\n",
       "      <td>&gt;50K</td>\n",
       "    </tr>\n",
       "  </tbody>\n",
       "</table>\n",
       "</div>"
      ],
      "text/plain": [
       "   age   workclass    education  educationno        maritalstatus  \\\n",
       "0   25     Private         11th            7        Never-married   \n",
       "1   38     Private      HS-grad            9   Married-civ-spouse   \n",
       "2   28   Local-gov   Assoc-acdm           12   Married-civ-spouse   \n",
       "\n",
       "           occupation relationship    race    sex  capitalgain  capitalloss  \\\n",
       "0   Machine-op-inspct    Own-child   Black   Male            0            0   \n",
       "1     Farming-fishing      Husband   White   Male            0            0   \n",
       "2     Protective-serv      Husband   White   Male            0            0   \n",
       "\n",
       "   hoursperweek          native  Salary  \n",
       "0            40   United-States   <=50K  \n",
       "1            50   United-States   <=50K  \n",
       "2            40   United-States    >50K  "
      ]
     },
     "execution_count": 7,
     "metadata": {},
     "output_type": "execute_result"
    }
   ],
   "source": [
    "salary_test = pd.read_csv('SalaryData_Test.csv')\n",
    "salary_test.head(3)"
   ]
  },
  {
   "cell_type": "code",
   "execution_count": 4,
   "id": "4c2721cd",
   "metadata": {},
   "outputs": [],
   "source": [
    "string_columns=[\"workclass\",\"education\",\"maritalstatus\",\"occupation\",\"relationship\",\"race\",\"sex\",\"native\"]"
   ]
  },
  {
   "cell_type": "code",
   "execution_count": 8,
   "id": "1fc74d6e",
   "metadata": {},
   "outputs": [],
   "source": [
    "number = preprocessing.LabelEncoder()\n",
    "for i in string_columns:\n",
    "    salary_train[i] = number.fit_transform(salary_train[i])\n",
    "    salary_test[i] = number.fit_transform(salary_test[i])"
   ]
  },
  {
   "cell_type": "code",
   "execution_count": 9,
   "id": "c927d71c",
   "metadata": {},
   "outputs": [],
   "source": [
    "colnames = salary_train.columns\n",
    "len(colnames[0:13])\n",
    "trainX = salary_train[colnames[0:13]]\n",
    "trainY = salary_train[colnames[13]]\n",
    "testX  = salary_test[colnames[0:13]]\n",
    "testY  = salary_test[colnames[13]]"
   ]
  },
  {
   "cell_type": "markdown",
   "id": "f3df8104",
   "metadata": {},
   "source": [
    "# Model Training"
   ]
  },
  {
   "cell_type": "code",
   "execution_count": 18,
   "id": "64780eb6",
   "metadata": {},
   "outputs": [],
   "source": [
    "# Train Gaussian Naive Bayes classifier on training set\n",
    "\n",
    "sgnb = GaussianNB()\n",
    "\n",
    "#fit the model\n",
    "spred_gnb = sgnb.fit(trainX,trainY).predict(testX)"
   ]
  },
  {
   "cell_type": "markdown",
   "id": "170d56a2",
   "metadata": {},
   "source": [
    "# Confusion matrix for GaussianNB Model"
   ]
  },
  {
   "cell_type": "code",
   "execution_count": 19,
   "id": "45cb3fc6",
   "metadata": {},
   "outputs": [
    {
     "data": {
      "text/plain": [
       "array([[10759,   601],\n",
       "       [ 2491,  1209]], dtype=int64)"
      ]
     },
     "execution_count": 19,
     "metadata": {},
     "output_type": "execute_result"
    }
   ],
   "source": [
    "confusion_matrix(testY,spred_gnb)"
   ]
  },
  {
   "cell_type": "code",
   "execution_count": 11,
   "id": "1c10e69f",
   "metadata": {},
   "outputs": [
    {
     "name": "stdout",
     "output_type": "stream",
     "text": [
      "Accuracy 0.7946879150066402\n"
     ]
    }
   ],
   "source": [
    "print (\"Accuracy\",(10759+1209)/(10759+601+2491+1209))"
   ]
  },
  {
   "cell_type": "code",
   "execution_count": 17,
   "id": "625d0ec9",
   "metadata": {},
   "outputs": [],
   "source": [
    "# Train Sign_pred by Motif Naive Bayes on training set\n",
    "\n",
    "smnb = MultinomialNB()\n",
    "\n",
    "#fit the model\n",
    "spred_mnb = smnb.fit(trainX,trainY).predict(testX)"
   ]
  },
  {
   "cell_type": "markdown",
   "id": "3e6ca951",
   "metadata": {},
   "source": [
    "# Confusion matrix for Sign_predMNB Model"
   ]
  },
  {
   "cell_type": "code",
   "execution_count": 16,
   "id": "760a5ba4",
   "metadata": {},
   "outputs": [
    {
     "data": {
      "text/plain": [
       "array([[10891,   469],\n",
       "       [ 2920,   780]], dtype=int64)"
      ]
     },
     "execution_count": 16,
     "metadata": {},
     "output_type": "execute_result"
    }
   ],
   "source": [
    "confusion_matrix(testY,spred_mnb)"
   ]
  },
  {
   "cell_type": "markdown",
   "id": "3406f8e5",
   "metadata": {},
   "source": [
    "# Accuracy of the models"
   ]
  },
  {
   "cell_type": "code",
   "execution_count": 33,
   "id": "f9f144db",
   "metadata": {},
   "outputs": [
    {
     "name": "stdout",
     "output_type": "stream",
     "text": [
      "Accuracy of GaussianNB model is: 0.7946879150066402\n"
     ]
    }
   ],
   "source": [
    "print (\"Accuracy of GaussianNB model is:\",(10759+1209)/(10759+601+2491+1209))\n"
   ]
  },
  {
   "cell_type": "code",
   "execution_count": 20,
   "id": "b67fc626",
   "metadata": {},
   "outputs": [
    {
     "name": "stdout",
     "output_type": "stream",
     "text": [
      "Accuracy of SMNB model is: 0.7592869689675362\n"
     ]
    }
   ],
   "source": [
    "print(\"Accuracy of SMNB model is:\",(10891+780)/(10891+780+2920+780))"
   ]
  },
  {
   "cell_type": "code",
   "execution_count": null,
   "id": "fa652dbe",
   "metadata": {},
   "outputs": [],
   "source": []
  }
 ],
 "metadata": {
  "kernelspec": {
   "display_name": "Python 3 (ipykernel)",
   "language": "python",
   "name": "python3"
  },
  "language_info": {
   "codemirror_mode": {
    "name": "ipython",
    "version": 3
   },
   "file_extension": ".py",
   "mimetype": "text/x-python",
   "name": "python",
   "nbconvert_exporter": "python",
   "pygments_lexer": "ipython3",
   "version": "3.9.7"
  }
 },
 "nbformat": 4,
 "nbformat_minor": 5
}
